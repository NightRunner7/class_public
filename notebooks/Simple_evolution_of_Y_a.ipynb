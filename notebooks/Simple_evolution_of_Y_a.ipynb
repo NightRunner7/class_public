{
 "cells": [
  {
   "cell_type": "code",
   "execution_count": 1,
   "id": "521e9fcb",
   "metadata": {},
   "outputs": [],
   "source": [
    "# import necessary modules\n",
    "# uncomment to get plots displayed in notebook\n",
    "%matplotlib inline\n",
    "import matplotlib\n",
    "import matplotlib.pyplot as plt\n",
    "import numpy as np\n",
    "from classy import Class"
   ]
  },
  {
   "cell_type": "markdown",
   "id": "f4158259",
   "metadata": {},
   "source": [
    "# Fixed parameters"
   ]
  },
  {
   "cell_type": "code",
   "execution_count": 47,
   "id": "3d9d7ca5",
   "metadata": {},
   "outputs": [],
   "source": [
    "#####################################################\n",
    "#\n",
    "# Cosmological parameters, which I fixed\n",
    "#\n",
    "#####################################################\n",
    "\n",
    "# temperature of CMB\n",
    "T_cmb = 2.726  # [K]\n",
    "\n",
    "# default value of Neff\n",
    "Neff_def = 3.044  # [dimensionless]\n",
    "\n",
    "# abaundance of the photons nowadays\n",
    "Omega_gamma_present = 5.382098597277496e-05\n",
    "\n",
    "# abaundace of axions nowadays\n",
    "Y_a = 0.0122\n",
    "g_star = 106.75\n",
    "Omega_a_present = ((2 * np.pi**4 * g_star * Y_a) / (45 * 1.202))**(4/3) * 0.5 * Omega_gamma_present\n",
    "\n",
    "#####################################################\n",
    "#\n",
    "# Axion parameters, which I fixed\n",
    "#\n",
    "#####################################################\n",
    "\n",
    "# mass of axion\n",
    "m_ncdm_in_eV = 0.6  # [eV]\n",
    "\n",
    "# temperature of axion, nowadays\n",
    "T_ncdm = 0.331070  # [T_CMB]\n",
    "# T_ncdm = 0.731070  # [T_CMB]\n",
    "T_ncdm_K = T_ncdm * T_cmb  # [K]"
   ]
  },
  {
   "cell_type": "code",
   "execution_count": 48,
   "id": "313cb864",
   "metadata": {},
   "outputs": [],
   "source": [
    "#####################################################\n",
    "#\n",
    "# Cosmological parameters and other CLASS parameters\n",
    "#\n",
    "#####################################################\n",
    "common_settings = {# LambdaCDM parameters\n",
    "                   'h':0.67810,\n",
    "                   'omega_b':0.02238280,\n",
    "                   'omega_cdm': 0.1201075,\n",
    "                   # Take fixed value for primordial Helium (instead of automatic BBN adjustment)\n",
    "                   'YHe':0.2454,\n",
    "                   # Background parameters\n",
    "                   'T_cmb': T_cmb,\n",
    "                   # Axion parameters\n",
    "                   'N_ncdm': 1,\n",
    "                   'm_ncdm': m_ncdm_in_eV,\n",
    "                   'T_ncdm': T_ncdm,\n",
    "                   'Omega_ncdm': Omega_a_present\n",
    "                   }"
   ]
  },
  {
   "cell_type": "markdown",
   "id": "742b68c8",
   "metadata": {},
   "source": [
    "# Running CLASS"
   ]
  },
  {
   "cell_type": "code",
   "execution_count": 49,
   "id": "fd4f38f9",
   "metadata": {},
   "outputs": [],
   "source": [
    "############################################\n",
    "#\n",
    "# Varying parameter (others fixed to default)\n",
    "# The varying parameter will be:\n",
    "# Omega_ncdm\n",
    "#\n",
    "############################################\n",
    "\n",
    "AxionClass = Class()\n",
    "AxionClass.set(common_settings)\n",
    "AxionClass.compute()\n",
    "# load background table\n",
    "baAxionClass = AxionClass.get_background()"
   ]
  },
  {
   "cell_type": "code",
   "execution_count": 50,
   "id": "44985084",
   "metadata": {},
   "outputs": [
    {
     "name": "stdout",
     "output_type": "stream",
     "text": [
      "[3.78506490e+41 3.77288263e+41 3.76073957e+41 ... 1.08631243e-11\n",
      " 1.08368914e-11 1.08107219e-11]\n",
      "[2.75358021e+44 2.74471779e+44 2.73588389e+44 ... 2.77139100e-12\n",
      " 2.76247125e-12 2.75358021e-12]\n"
     ]
    }
   ],
   "source": [
    "arr_z = baAxionClass['z']\n",
    "arr_rho_a = baAxionClass['(.)rho_ncdm[0]']\n",
    "arr_rho_g = baAxionClass['(.)rho_g']\n",
    "\n",
    "print(arr_rho_a)\n",
    "print(arr_rho_g)"
   ]
  },
  {
   "cell_type": "code",
   "execution_count": 51,
   "id": "8ffbb82f",
   "metadata": {},
   "outputs": [],
   "source": [
    "def cal_Y_a(_rho_a, _rho_g):\n",
    "    return (2 * _rho_a / _rho_g)**(3/4) * (45 * 1.202) / (2 * (np.pi)**4 * g_star)"
   ]
  },
  {
   "cell_type": "code",
   "execution_count": 52,
   "id": "40263e57",
   "metadata": {},
   "outputs": [],
   "source": [
    "arr_Y_a = np.array([])\n",
    "\n",
    "for i in range(0, len(arr_z)):\n",
    "    rho_a = arr_rho_a[i]\n",
    "    rho_g = arr_rho_g[i]\n",
    "    \n",
    "    Y_a = cal_Y_a(rho_a, rho_g)\n",
    "    # append\n",
    "    arr_Y_a = np.append(arr_Y_a, Y_a)"
   ]
  },
  {
   "cell_type": "code",
   "execution_count": 53,
   "id": "785d4da8",
   "metadata": {},
   "outputs": [
    {
     "name": "stdout",
     "output_type": "stream",
     "text": [
      "[3.12265357e-05 3.12265357e-05 3.12265357e-05 ... 1.21852605e-02\n",
      " 1.21926280e-02 1.22000000e-02]\n"
     ]
    }
   ],
   "source": [
    "print(arr_Y_a)"
   ]
  },
  {
   "cell_type": "markdown",
   "id": "27664d39",
   "metadata": {},
   "source": [
    "# Plotting"
   ]
  },
  {
   "cell_type": "code",
   "execution_count": 54,
   "id": "f48ae47b",
   "metadata": {},
   "outputs": [],
   "source": [
    "font = {'size'   : 14, 'family':'STIXGeneral'}\n",
    "axislabelfontsize='large'\n",
    "matplotlib.rc('font', **font)\n",
    "matplotlib.mathtext.rcParams['legend.fontsize']='medium'"
   ]
  },
  {
   "cell_type": "code",
   "execution_count": 55,
   "id": "809ad110",
   "metadata": {},
   "outputs": [
    {
     "data": {
      "text/plain": [
       "Text(0, 0.5, '$Y_{\\\\mathrm{a}}$')"
      ]
     },
     "execution_count": 55,
     "metadata": {},
     "output_type": "execute_result"
    },
    {
     "data": {
      "image/png": "[encoded data removed]",
      "text/plain": [
       "<Figure size 640x480 with 1 Axes>"
      ]
     },
     "metadata": {},
     "output_type": "display_data"
    }
   ],
   "source": [
    "plt.loglog(arr_z, arr_Y_a, label='CLASS')\n",
    "\n",
    "# legend\n",
    "plt.legend(loc='upper right')\n",
    "# Describtion\n",
    "plt.xlabel(r\"$z$\")\n",
    "plt.ylabel(r\"$Y_{\\mathrm{a}}$\")\n",
    "# plt.tight_layout()"
   ]
  },
  {
   "cell_type": "code",
   "execution_count": null,
   "id": "dfdcc5ce",
   "metadata": {},
   "outputs": [],
   "source": []
  }
 ],
 "metadata": {
  "kernelspec": {
   "display_name": "Python 3 (ipykernel)",
   "language": "python",
   "name": "python3"
  },
  "language_info": {
   "codemirror_mode": {
    "name": "ipython",
    "version": 3
   },
   "file_extension": ".py",
   "mimetype": "text/x-python",
   "name": "python",
   "nbconvert_exporter": "python",
   "pygments_lexer": "ipython3",
   "version": "3.9.13"
  }
 },
 "nbformat": 4,
 "nbformat_minor": 5
}
