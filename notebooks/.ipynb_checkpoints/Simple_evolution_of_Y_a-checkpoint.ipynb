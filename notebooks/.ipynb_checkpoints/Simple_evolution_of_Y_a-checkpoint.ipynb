{
 "cells": [
  {
   "cell_type": "code",
   "execution_count": 1,
   "id": "2e26c2f0",
   "metadata": {},
   "outputs": [],
   "source": [
    "# import necessary modules\n",
    "# uncomment to get plots displayed in notebook\n",
    "%matplotlib inline\n",
    "import matplotlib\n",
    "import matplotlib.pyplot as plt\n",
    "import numpy as np\n",
    "from classy import Class"
   ]
  },
  {
   "cell_type": "markdown",
   "id": "de74a283",
   "metadata": {},
   "source": [
    "# Fixed parameters"
   ]
  },
  {
   "cell_type": "code",
   "execution_count": null,
   "id": "fb402a42",
   "metadata": {},
   "outputs": [],
   "source": [
    "#####################################################\n",
    "#\n",
    "# Cosmological parameters, which I fixed\n",
    "#\n",
    "#####################################################\n",
    "\n",
    "# temperature of CMB\n",
    "T_cmb = 2.726  # [K]\n",
    "\n",
    "# default value of Neff\n",
    "Neff_def = 3.044  # [dimensionless]\n",
    "\n",
    "#####################################################\n",
    "#\n",
    "# Axion parameters, which I fixed\n",
    "#\n",
    "#####################################################\n",
    "\n",
    "# mass of axion\n",
    "m_ncdm_in_eV = 0.6  # [eV]\n",
    "\n",
    "# temperature of axion, nowadays\n",
    "T_ncdm = 0.331070  # [T_CMB]\n",
    "# T_ncdm = 0.731070  # [T_CMB]\n",
    "T_ncdm_K = T_ncdm * T_cmb  # [K]"
   ]
  }
 ],
 "metadata": {
  "kernelspec": {
   "display_name": "Python 3 (ipykernel)",
   "language": "python",
   "name": "python3"
  },
  "language_info": {
   "codemirror_mode": {
    "name": "ipython",
    "version": 3
   },
   "file_extension": ".py",
   "mimetype": "text/x-python",
   "name": "python",
   "nbconvert_exporter": "python",
   "pygments_lexer": "ipython3",
   "version": "3.9.13"
  }
 },
 "nbformat": 4,
 "nbformat_minor": 5
}
