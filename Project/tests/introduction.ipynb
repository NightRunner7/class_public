{
 "cells": [
  {
   "cell_type": "code",
   "execution_count": 4,
   "id": "af797b64-de8e-4ae0-a1c0-5cc05b745267",
   "metadata": {},
   "outputs": [],
   "source": [
    "# importing modules\n",
    "import numpy as np\n",
    "from classy import Class"
   ]
  },
  {
   "cell_type": "markdown",
   "id": "bebd6b0d-ca10-40eb-81f0-7c8c8a5bb087",
   "metadata": {},
   "source": [
    "## Fixed parameters"
   ]
  },
  {
   "cell_type": "code",
   "execution_count": 5,
   "id": "33386b96-6ad8-45d3-86ea-b97f9bbe8da9",
   "metadata": {},
   "outputs": [],
   "source": [
    "#####################################################\n",
    "#\n",
    "# Cosmological parameters, which I fixed\n",
    "#\n",
    "#####################################################\n",
    "\n",
    "# temperature of CMB\n",
    "T_cmb = 2.726  # [K]\n",
    "\n",
    "#####################################################\n",
    "#\n",
    "# Axion parameters, which I fixed\n",
    "#\n",
    "#####################################################\n",
    "\n",
    "# mass of axion\n",
    "m_ncdm_in_eV = 1e-3  # [eV]\n",
    "\n",
    "# temperature of axion, nowadays\n",
    "T_ncdm = 0.331070  # [T_CMB]\n",
    "# T_ncdm = 0.731070  # [T_CMB]\n",
    "T_ncdm_K = T_ncdm * T_cmb  # [K]"
   ]
  },
  {
   "cell_type": "code",
   "execution_count": 6,
   "id": "e073688a-98a0-486b-925b-e9b65e6ff257",
   "metadata": {},
   "outputs": [],
   "source": [
    "#####################################################\n",
    "#\n",
    "# Cosmological parameters and other CLASS parameters\n",
    "#\n",
    "#####################################################\n",
    "common_settings = {# LambdaCDM parameters\n",
    "                   'h':0.67810,\n",
    "                   'omega_b':0.02238280,\n",
    "                   'omega_cdm': 0.1201075,\n",
    "                   'A_s':2.100549e-09,\n",
    "                   'tau_reio': 0.05430842,\n",
    "                   # Take fixed value for primordial Helium (instead of automatic BBN adjustment)\n",
    "                   'YHe':0.2454,\n",
    "                   # Background parameters\n",
    "                   'T_cmb': T_cmb,\n",
    "                   # Axion parameters\n",
    "                   'N_ncdm': 1,\n",
    "                   'm_ncdm': m_ncdm_in_eV,\n",
    "                   'T_ncdm': T_ncdm\n",
    "                   }"
   ]
  },
  {
   "cell_type": "markdown",
   "id": "4496a5b6-563d-439d-895c-aa9d4f6dd2e7",
   "metadata": {},
   "source": [
    "## Running CLASS"
   ]
  },
  {
   "cell_type": "code",
   "execution_count": 7,
   "id": "45f96d76-adba-4dca-a050-7751d48ad3df",
   "metadata": {},
   "outputs": [
    {
     "name": "stdout",
     "output_type": "stream",
     "text": [
      "arr_Omega_ncdm: [0.0001, 0.001, 0.01]\n"
     ]
    }
   ],
   "source": [
    "############################################\n",
    "#\n",
    "# Varying parameter (others fixed to default)\n",
    "# The varying parameter will be:\n",
    "# Omega_ncdm\n",
    "#\n",
    "############################################\n",
    "\n",
    "# Omega_ncdm\n",
    "# arr_Omega_ncdm = np.logspace(-4, -3, 100)\n",
    "arr_Omega_ncdm = [1e-4, 1e-3, 1e-2]\n",
    "print(\"arr_Omega_ncdm:\", arr_Omega_ncdm)\n",
    "\n",
    "# loop over varying parameter values\n",
    "\n",
    "M = {}\n",
    "background = {}\n",
    "\n",
    "for i in range(0, len(arr_Omega_ncdm)):\n",
    "    Omega_ncdm = arr_Omega_ncdm[i]\n",
    "\n",
    "    M[i] = Class()\n",
    "    M[i].set(common_settings)\n",
    "    # M.set({'m_ncdm':arr_Mncdm_eV[0]})\n",
    "    M[i].set({'Omega_ncdm':Omega_ncdm})\n",
    "    M[i].compute()\n",
    "    # load background table\n",
    "    background[i] = M[i].get_background()"
   ]
  },
  {
   "cell_type": "code",
   "execution_count": 9,
   "id": "90089ddc-46c1-4ee0-b97a-e97edfe48d0c",
   "metadata": {},
   "outputs": [
    {
     "name": "stdout",
     "output_type": "stream",
     "text": [
      "dict_keys(['z', 'proper time [Gyr]', 'conf. time [Mpc]', 'H [1/Mpc]', 'comov. dist.', 'ang.diam.dist.', 'lum. dist.', 'comov.snd.hrz.', '(.)rho_g', '(.)rho_b', '(.)rho_cdm', '(.)rho_ncdm[0]', '(.)p_ncdm[0]', '(.)rho_lambda', '(.)rho_ur', '(.)rho_crit', '(.)rho_tot', '(.)p_tot', '(.)p_tot_prime', 'gr.fac. D', 'gr.fac. f'])\n"
     ]
    }
   ],
   "source": [
    "print(background[0].keys())"
   ]
  },
  {
   "cell_type": "code",
   "execution_count": 10,
   "id": "d278cacf-30d2-42b4-a11f-8a6b570ab963",
   "metadata": {},
   "outputs": [
    {
     "name": "stdout",
     "output_type": "stream",
     "text": [
      "z: [1.00000000e+14 9.99194400e+13 9.98389448e+13 ... 1.61314959e-03\n",
      " 8.06249775e-04 0.00000000e+00]\n",
      "\n",
      "The parameter Omega_ncdm(t_0) = 9.999999999999999e-05. Class\n",
      "The parameter Omega_ncdm(t_0) = 0.0001. Fixed value\n",
      "\n",
      "The parameter rho_gamma(t_0) = 2.753580214647508e-12. Class\n",
      "The parameter rho_crit(t_0) = 5.116183148410531e-08. Class\n",
      "The parameter Omega_gamma(t_0) = 5.382098597277496e-05. Class\n",
      "The parameter Omega_CDM(t_0) = 0.26120569325001164. Class\n",
      "-----------------------------------------------------------------------\n",
      "\n",
      "z: [1.00000000e+14 9.99194400e+13 9.98389448e+13 ... 1.61314959e-03\n",
      " 8.06249775e-04 0.00000000e+00]\n",
      "\n",
      "The parameter Omega_ncdm(t_0) = 0.001. Class\n",
      "The parameter Omega_ncdm(t_0) = 0.001. Fixed value\n",
      "\n",
      "The parameter rho_gamma(t_0) = 2.753580214647508e-12. Class\n",
      "The parameter rho_crit(t_0) = 5.116183148410531e-08. Class\n",
      "The parameter Omega_gamma(t_0) = 5.382098597277496e-05. Class\n",
      "The parameter Omega_CDM(t_0) = 0.26120569325001164. Class\n",
      "-----------------------------------------------------------------------\n",
      "\n",
      "z: [1.00000000e+14 9.99194400e+13 9.98389448e+13 ... 1.61314959e-03\n",
      " 8.06249775e-04 0.00000000e+00]\n",
      "\n",
      "The parameter Omega_ncdm(t_0) = 0.01. Class\n",
      "The parameter Omega_ncdm(t_0) = 0.01. Fixed value\n",
      "\n",
      "The parameter rho_gamma(t_0) = 2.753580214647508e-12. Class\n",
      "The parameter rho_crit(t_0) = 5.116183148410531e-08. Class\n",
      "The parameter Omega_gamma(t_0) = 5.382098597277496e-05. Class\n",
      "The parameter Omega_CDM(t_0) = 0.26120569325001164. Class\n",
      "-----------------------------------------------------------------------\n",
      "\n"
     ]
    }
   ],
   "source": [
    "################################################\n",
    "#\n",
    "# few sanity checks. Focus on the 'background'\n",
    "#\n",
    "################################################\n",
    "\n",
    "for i in range(0,3):\n",
    "    # How the data is sotered. From the oldest to nearest.\n",
    "    arr_z = background[i]['z']\n",
    "    print(\"z:\", arr_z)\n",
    "    print()\n",
    "\n",
    "    # Chcek the nowadys value of the Omega_ncdm -> at present time\n",
    "    # Omega_ncdm = rho_ncdm / rho_crit\n",
    "    Omega_ncdm_present = background[i]['(.)rho_ncdm[0]'][-1] / background[i]['(.)rho_crit'][-1]\n",
    "    Omega_gamma_present = background[i]['(.)rho_g'][-1] / background[i]['(.)rho_crit'][-1]\n",
    "    Omega_CDM_present = background[i]['(.)rho_cdm'][-1] / background[i]['(.)rho_crit'][-1]\n",
    "    \n",
    "    print(f\"The parameter Omega_ncdm(t_0) = {Omega_ncdm_present}. Class\")\n",
    "    print(f\"The parameter Omega_ncdm(t_0) = {arr_Omega_ncdm[i]}. Fixed value\")\n",
    "    print()\n",
    "    print(f\"The parameter rho_gamma(t_0) = {background[i]['(.)rho_g'][-1]}. Class\")\n",
    "    print(f\"The parameter rho_crit(t_0) = {background[i]['(.)rho_crit'][-1]}. Class\")\n",
    "    print(f\"The parameter Omega_gamma(t_0) = {Omega_gamma_present}. Class\")\n",
    "    print(f\"The parameter Omega_CDM(t_0) = {Omega_CDM_present}. Class\")\n",
    "\n",
    "    print(\"-----------------------------------------------------------------------\")\n",
    "    print()"
   ]
  },
  {
   "cell_type": "code",
   "execution_count": 11,
   "id": "2667d82e-e236-4326-9459-a2e342724f68",
   "metadata": {},
   "outputs": [
    {
     "name": "stdout",
     "output_type": "stream",
     "text": [
      "parameters: {'Neff': 4.712425339295417}\n",
      "-----------------------------------------------------------------------\n",
      "\n",
      "parameters: {'Neff': 19.72825339295417}\n",
      "-----------------------------------------------------------------------\n",
      "\n",
      "parameters: {'Neff': 169.8865339295417}\n",
      "-----------------------------------------------------------------------\n",
      "\n"
     ]
    }
   ],
   "source": [
    "################################################\n",
    "#\n",
    "# few sanity checks. Focus on the '.get_current_derived_parameters'\n",
    "#\n",
    "################################################\n",
    "\n",
    "for i in range(0,3):\n",
    "    \n",
    "    parameters = M[i].get_current_derived_parameters(['Neff'])\n",
    "    print(\"parameters:\", parameters)\n",
    "    \n",
    "\n",
    "    print(\"-----------------------------------------------------------------------\")\n",
    "    print()"
   ]
  },
  {
   "cell_type": "code",
   "execution_count": null,
   "id": "efaa27e1-5b06-45e5-96c8-881559ef600a",
   "metadata": {},
   "outputs": [],
   "source": []
  }
 ],
 "metadata": {
  "kernelspec": {
   "display_name": "Python 3 (ipykernel)",
   "language": "python",
   "name": "python3"
  },
  "language_info": {
   "codemirror_mode": {
    "name": "ipython",
    "version": 3
   },
   "file_extension": ".py",
   "mimetype": "text/x-python",
   "name": "python",
   "nbconvert_exporter": "python",
   "pygments_lexer": "ipython3",
   "version": "3.11.5"
  }
 },
 "nbformat": 4,
 "nbformat_minor": 5
}
