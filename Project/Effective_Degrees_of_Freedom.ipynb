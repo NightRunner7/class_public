{
 "cells": [
  {
   "cell_type": "code",
   "execution_count": 4,
   "id": "3f2fba53-2d96-4418-a53d-1d57d2db0764",
   "metadata": {},
   "outputs": [],
   "source": [
    "# import necessary modules\n",
    "# uncomment to get plots displayed in notebook\n",
    "%matplotlib inline\n",
    "import math\n",
    "import matplotlib\n",
    "import matplotlib.pyplot as plt\n",
    "import numpy as np\n",
    "import scipy.integrate\n",
    "import scipy.optimize\n",
    "from scipy import interpolate\n",
    "from scipy.interpolate import UnivariateSpline\n",
    "from scipy.interpolate import CubicSpline\n",
    "from scipy.optimize import fsolve\n",
    "from classy import Class\n",
    "# from tqdm.notebook import trange, tqdm #controlling iteration speed"
   ]
  },
  {
   "cell_type": "markdown",
   "id": "7589c2e5-e186-48f0-83fd-fc78cfe08960",
   "metadata": {},
   "source": [
    "Below I've copied the values of $g_{*s}$ and corresponding times $t$ in seconds from 1609.04979. Then I converted the times to GYr, because I think it will make it easier to compare with `CLASS`. Note that some values of $g_{*s}$ in the middle (~150-240 GeV) are ambigous and could take on different values depending on the model, I think? "
   ]
  },
  {
   "cell_type": "code",
   "execution_count": 5,
   "id": "951b686c-cb5a-4c2a-bc00-ad05cc1e4038",
   "metadata": {},
   "outputs": [],
   "source": [
    "def g_star(time):\n",
    "    g_stars = [106.75, 106.75, 106.74, 106.70, 106.56, 105.61, 102.85, 96.53, 88.14, 86.13, \n",
    "              85.37, 81.80, 75.50, 68.55, 62.25, 45.47, 39.77, 34.91, 30.84, \n",
    "              27.49, 24.77, 22.59, 20.86, 17.55, 14.32, 11.25, 10.76, 10.74, 10.70, 10.56, \n",
    "              10.03, 7.55, 4.78, 3.93, 3.91, 3.91, 3.91] \n",
    "    times = [2.32e-15, 9.29e-15, 5.81e-14, 2.32e-13, 9.3e-13, 5.83e-12, 2.36e-11, 9.73e-11, \n",
    "            6.4e-10, 2.58e-9, 1.04e-8, 6.61e-8, 2.75e-7, 1.15e-6, 6.63e-6, 8.42e-6, 1e-5, \n",
    "            1.2e-5, 1.44e-5, 1.73e-5, 2.08e-5, 2.51e-5, 3.04e-5, 5.66e-5, 2.51e-4, 1.78e-3, \n",
    "            7.32e-3, 2.93e-2, 0.18, 0.74, 3.11, 2.39e1, 1.22e2, 5.24e2, 3.27e3, 1.31e4] #seconds\n",
    "    #Let's convert seconds to gigayears\n",
    "    sec_to_gyr = 3.1710e-17\n",
    "    times = [i*sec_to_gyr for i in times] #GYrs\n",
    "    times.append(1.37705659e+01)\n",
    "    #print(times)\n",
    "    X, Y = times, g_stars\n",
    "    func = interpolate.interp1d(X, Y, kind='linear', assume_sorted=True, fill_value=\"extrapolate\")\n",
    "    return func(time)"
   ]
  },
  {
   "cell_type": "code",
   "execution_count": null,
   "id": "020d008c-938e-40be-9780-45d0935ece3c",
   "metadata": {},
   "outputs": [],
   "source": []
  }
 ],
 "metadata": {
  "kernelspec": {
   "display_name": "Python 3 (ipykernel)",
   "language": "python",
   "name": "python3"
  },
  "language_info": {
   "codemirror_mode": {
    "name": "ipython",
    "version": 3
   },
   "file_extension": ".py",
   "mimetype": "text/x-python",
   "name": "python",
   "nbconvert_exporter": "python",
   "pygments_lexer": "ipython3",
   "version": "3.11.5"
  }
 },
 "nbformat": 4,
 "nbformat_minor": 5
}
